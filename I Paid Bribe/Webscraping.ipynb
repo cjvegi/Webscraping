{
 "cells": [
  {
   "cell_type": "markdown",
   "metadata": {},
   "source": [
    "##  Webscraping"
   ]
  },
  {
   "cell_type": "markdown",
   "metadata": {},
   "source": [
    "In this notebook, we would webscrape from http://www.ipaidabribe.com, (An initiative in India to tackle corruption by harnessing the collective energy of citizens. IPaidABribe.com is a citizen driven mechanism for tracking bribe payment activity, as also instances of when people resisted bribe payments. )\n",
    "\n",
    "We will extract the following information from each of the bribe's reported on the website,\n",
    "1. Title of the report (Transaction)\n",
    "2. Number of views of the report\n",
    "3. Amount paid as bribery\n",
    "4. City\n",
    "5. State\n",
    "6. Time stamp\n",
    "7. Name of authority that took the bribe(Police,Transport etc.,) \n",
    "\n",
    "We extract the above information from around 1200 reports."
   ]
  },
  {
   "cell_type": "code",
   "execution_count": 1,
   "metadata": {
    "collapsed": true
   },
   "outputs": [],
   "source": [
    "## Libraries \n",
    "from bs4 import BeautifulSoup as soup ##BeautifulSoup$\n",
    "from urllib.request import urlopen as uReq\n",
    "import requests"
   ]
  },
  {
   "cell_type": "markdown",
   "metadata": {},
   "source": [
    "We will start with understanding how to extract information from a single report and later with that knowledge use for loop to extract information from 1200 reports"
   ]
  },
  {
   "cell_type": "code",
   "execution_count": 2,
   "metadata": {
    "collapsed": true
   },
   "outputs": [],
   "source": [
    "## url\n",
    "my_url = \"http://www.ipaidabribe.com/reports/all#gsc.tab=0\""
   ]
  },
  {
   "cell_type": "code",
   "execution_count": 3,
   "metadata": {},
   "outputs": [
    {
     "data": {
      "text/plain": [
       "<http.client.HTTPResponse at 0x107254ac8>"
      ]
     },
     "execution_count": 3,
     "metadata": {},
     "output_type": "execute_result"
    }
   ],
   "source": [
    "#opening a connection\n",
    "uClient = uReq(my_url)\n",
    "uClient"
   ]
  },
  {
   "cell_type": "code",
   "execution_count": 4,
   "metadata": {
    "collapsed": true
   },
   "outputs": [],
   "source": [
    "## Read the source html code\n",
    "page_html= uClient.read()\n",
    "\n",
    "## Close the connection \n",
    "uClient.close()"
   ]
  },
  {
   "cell_type": "code",
   "execution_count": 5,
   "metadata": {},
   "outputs": [],
   "source": [
    "## seeing how it read the html code\n",
    "\n",
    "#page_html"
   ]
  },
  {
   "cell_type": "markdown",
   "metadata": {},
   "source": [
    "We see that code is all over the place. Let's use BeautifulSoup to help our cause."
   ]
  },
  {
   "cell_type": "code",
   "execution_count": 6,
   "metadata": {
    "collapsed": true
   },
   "outputs": [],
   "source": [
    "# Beautiful Soup\n",
    "page_soup = soup(page_html,\"lxml\")"
   ]
  },
  {
   "cell_type": "code",
   "execution_count": 7,
   "metadata": {},
   "outputs": [],
   "source": [
    "# Visualizing \n",
    "\n",
    "\n",
    "#page_soup.contents"
   ]
  },
  {
   "cell_type": "code",
   "execution_count": 8,
   "metadata": {},
   "outputs": [
    {
     "data": {
      "text/plain": [
       "<div style=\"display:none\">\n",
       "<script src=\"//www.googleadservices.com/pagead/conversion.js\" type=\"text/javascript\"></script>\n",
       "</div>"
      ]
     },
     "execution_count": 8,
     "metadata": {},
     "output_type": "execute_result"
    }
   ],
   "source": [
    "# Verifying \n",
    "page_soup.body.div"
   ]
  },
  {
   "cell_type": "code",
   "execution_count": 9,
   "metadata": {
    "collapsed": true
   },
   "outputs": [],
   "source": [
    "## we see that the class =\"ref-module-paid-bribe\" contains information of all the reports in a page\n",
    "containers = page_soup.find_all(\"section\", {\"class\":\"ref-module-paid-bribe\"})"
   ]
  },
  {
   "cell_type": "code",
   "execution_count": 10,
   "metadata": {},
   "outputs": [
    {
     "data": {
      "text/plain": [
       "10"
      ]
     },
     "execution_count": 10,
     "metadata": {},
     "output_type": "execute_result"
    }
   ],
   "source": [
    "## Number of reports in a page\n",
    "len(containers)"
   ]
  },
  {
   "cell_type": "markdown",
   "metadata": {},
   "source": [
    "We see that the length of the containers object is 10 which corresponds to the number of reports on the page. Now we will extract information one by one"
   ]
  },
  {
   "cell_type": "code",
   "execution_count": 11,
   "metadata": {},
   "outputs": [
    {
     "data": {
      "text/plain": [
       "<section class=\"ref-module-paid-bribe\">\n",
       "<ul class=\"overview clearfix\">\n",
       "<li class=\"label ref-font-color\"><i class=\"fa fa-bullseye ref-font-color\"></i>I Paid A Bribe\n",
       "                    </li>\n",
       "<li class=\"time-span\"><i class=\"fa fa-clock-o\"></i>2 days ago\n",
       "                    </li>\n",
       "<li class=\"views\"><i class=\"fa fa-eye\"></i>132 views</li>\n",
       "</ul>\n",
       "<h3 class=\"heading-3\">\n",
       "<a href=\"http://www.ipaidabribe.com/reports/paid/police-verification-for-passport-12\" title=\"Police verification for passport \">\n",
       "                      Police verification for passport \n",
       "                    </a>\n",
       "</h3>\n",
       "<ul class=\"department clearfix\">\n",
       "<li class=\"name\">\n",
       "<a href=\"http://www.ipaidabribe.com/reports/all/all-cities/police/all-amount\" title=\"Police\">Police</a>\n",
       "</li>\n",
       "<li class=\"transaction\">\n",
       "<a href=\"http://www.ipaidabribe.com/reports/all/all-cities/police/all-amount\" title=\"Background or Personal Verification\">Background or Personal Verification</a>\n",
       "</li><li class=\"paid-amount\">\n",
       "<span>Paid INR 1,000\n",
       "                        </span>\n",
       "</li></ul>\n",
       "<div class=\"key\">\n",
       "                    Reported on <span class=\"date\">January 23, 2018</span>\n",
       "                    from <a class=\"location\" href=\"http://www.ipaidabribe.com/reports/all/shimoga/all-departments/all-amount\" title=\"Shimoga, Karnataka\">Shimoga\n",
       "                      , Karnataka</a>\n",
       "                     ι Report #<span class=\"unique-reference\">177921</span>\n",
       "</div>\n",
       "<p class=\"body-copy-lg\">\n",
       "                    Kumsi Police station, Constable Paramesh Naik and Computer operator Praveen took INR 700 and 300 each for my Passport verification on 13th jan (Time 3...<a class=\"read-more\" href=\"http://www.ipaidabribe.com/reports/paid/police-verification-for-passport-12\" title=\"Read more\">Read more</a>\n",
       "</p> </section>"
      ]
     },
     "execution_count": 11,
     "metadata": {},
     "output_type": "execute_result"
    }
   ],
   "source": [
    "## First Report \n",
    "containers[0]"
   ]
  },
  {
   "cell_type": "code",
   "execution_count": 12,
   "metadata": {},
   "outputs": [
    {
     "data": {
      "text/plain": [
       "'132'"
      ]
     },
     "execution_count": 12,
     "metadata": {},
     "output_type": "execute_result"
    }
   ],
   "source": [
    "## Views\n",
    "views = containers[0].find(\"li\", {\"class\":\"views\"}).contents[1][0:3]\n",
    "views"
   ]
  },
  {
   "cell_type": "code",
   "execution_count": 13,
   "metadata": {},
   "outputs": [
    {
     "data": {
      "text/plain": [
       "'1,000'"
      ]
     },
     "execution_count": 13,
     "metadata": {},
     "output_type": "execute_result"
    }
   ],
   "source": [
    "## Amount paid\n",
    "containers[0].find(\"li\", {\"class\":\"paid-amount\"}).span.contents[-1].split()[2]"
   ]
  },
  {
   "cell_type": "code",
   "execution_count": 14,
   "metadata": {},
   "outputs": [
    {
     "data": {
      "text/plain": [
       "'Background or Personal Verification'"
      ]
     },
     "execution_count": 14,
     "metadata": {},
     "output_type": "execute_result"
    }
   ],
   "source": [
    "## Transaction: Title\n",
    "str(containers[0].find(\"li\", {\"class\":\"transaction\"}).a[\"title\"])"
   ]
  },
  {
   "cell_type": "code",
   "execution_count": 15,
   "metadata": {
    "scrolled": false
   },
   "outputs": [
    {
     "data": {
      "text/plain": [
       "'Police'"
      ]
     },
     "execution_count": 15,
     "metadata": {},
     "output_type": "execute_result"
    }
   ],
   "source": [
    "# Name\n",
    "containers[0].find(\"li\", {\"class\":\"name\"}).a['title']"
   ]
  },
  {
   "cell_type": "code",
   "execution_count": 16,
   "metadata": {},
   "outputs": [
    {
     "data": {
      "text/plain": [
       "'January 23, 2018'"
      ]
     },
     "execution_count": 16,
     "metadata": {},
     "output_type": "execute_result"
    }
   ],
   "source": [
    "#Date\n",
    "containers[0].find(\"span\",{\"class\":\"date\"}).contents[0]"
   ]
  },
  {
   "cell_type": "code",
   "execution_count": 17,
   "metadata": {},
   "outputs": [
    {
     "data": {
      "text/plain": [
       "'Karnataka'"
      ]
     },
     "execution_count": 17,
     "metadata": {},
     "output_type": "execute_result"
    }
   ],
   "source": [
    "# State\n",
    "containers[0].find(\"div\",{\"class\":\"key\"}).a['title'].split()[1].replace(',',\"\")"
   ]
  },
  {
   "cell_type": "code",
   "execution_count": 18,
   "metadata": {},
   "outputs": [
    {
     "data": {
      "text/plain": [
       "'Shimoga'"
      ]
     },
     "execution_count": 18,
     "metadata": {},
     "output_type": "execute_result"
    }
   ],
   "source": [
    "# City\n",
    "containers[0].find(\"div\",{\"class\":\"key\"}).a['title'].split()[0].replace(',',\"\")"
   ]
  },
  {
   "cell_type": "markdown",
   "metadata": {},
   "source": [
    "Now that we know where to find each of the feature from the report, we will loop through pages sequentially starting from latest reports to the old reports. "
   ]
  },
  {
   "cell_type": "markdown",
   "metadata": {},
   "source": [
    "### Final Code to extract information from reports"
   ]
  },
  {
   "cell_type": "code",
   "execution_count": 16,
   "metadata": {
    "collapsed": true
   },
   "outputs": [],
   "source": [
    "data = []\n",
    "\n",
    "for i in range(120):      # Number of pages plus one . In our case, we need 1200 reports \n",
    "    my_url = \"http://www.ipaidabribe.com/reports/all?page={}gsc.tab=0\".format(i*10)\n",
    "    uClient = uReq(my_url)\n",
    "    page_html= uClient.read()\n",
    "    uClient.close()\n",
    "    page_soup = soup(page_html,\"lxml\")\n",
    "    containers = page_soup.find_all(\"section\", {\"class\":\"ref-module-paid-bribe\"})\n",
    "   \n",
    "    for contains in containers:\n",
    "        views = contains.find(\"li\", {\"class\":\"views\"}).contents[1][0:3]\n",
    "        paid_amount = contains.find(\"li\", {\"class\":\"paid-amount\"}).span.contents[-1].split()[2]\n",
    "        transaction = contains.find(\"li\", {\"class\":\"transaction\"}).a[\"title\"]\n",
    "        name = contains.find(\"li\", {\"class\":\"name\"}).a['title']\n",
    "        date = contains.find(\"span\",{\"class\":\"date\"}).contents[0]\n",
    "        city = contains.find(\"div\",{\"class\":\"key\"}).a['title'].split()[0].replace(',',\"\")\n",
    "        state = contains.find(\"div\",{\"class\":\"key\"}).a['title'].split()[1].replace(',',\"\")\n",
    "    \n",
    "        data.append((views,paid_amount,transaction,name,date,city,state))"
   ]
  },
  {
   "cell_type": "markdown",
   "metadata": {},
   "source": [
    "### Saving to CSV"
   ]
  },
  {
   "cell_type": "code",
   "execution_count": 17,
   "metadata": {
    "collapsed": true
   },
   "outputs": [],
   "source": [
    "import pandas as pd\n",
    "df = pd.DataFrame(data,columns=[\"views\",\"paid_amount\",\"transaction\",\"name\",'date',\"city\",\"state\"])\n",
    "df['date'] = pd.to_datetime(df['date'])\n",
    "df.to_csv(\"I_Paid_Bribe.csv\",index=False,encoding='utf-8')"
   ]
  },
  {
   "cell_type": "code",
   "execution_count": 35,
   "metadata": {},
   "outputs": [
    {
     "data": {
      "text/html": [
       "<div>\n",
       "<style>\n",
       "    .dataframe thead tr:only-child th {\n",
       "        text-align: right;\n",
       "    }\n",
       "\n",
       "    .dataframe thead th {\n",
       "        text-align: left;\n",
       "    }\n",
       "\n",
       "    .dataframe tbody tr th {\n",
       "        vertical-align: top;\n",
       "    }\n",
       "</style>\n",
       "<table border=\"1\" class=\"dataframe\">\n",
       "  <thead>\n",
       "    <tr style=\"text-align: right;\">\n",
       "      <th></th>\n",
       "      <th>views</th>\n",
       "      <th>paid_amount</th>\n",
       "      <th>transaction</th>\n",
       "      <th>name</th>\n",
       "      <th>date</th>\n",
       "      <th>city</th>\n",
       "      <th>state</th>\n",
       "    </tr>\n",
       "  </thead>\n",
       "  <tbody>\n",
       "    <tr>\n",
       "      <th>0</th>\n",
       "      <td>131</td>\n",
       "      <td>1,000</td>\n",
       "      <td>Background or Personal Verification</td>\n",
       "      <td>Police</td>\n",
       "      <td>2018-01-23</td>\n",
       "      <td>Shimoga</td>\n",
       "      <td>Karnataka</td>\n",
       "    </tr>\n",
       "    <tr>\n",
       "      <th>1</th>\n",
       "      <td>139</td>\n",
       "      <td>1,500</td>\n",
       "      <td>Police Verification for Passport</td>\n",
       "      <td>Passport</td>\n",
       "      <td>2018-01-23</td>\n",
       "      <td>Ghaziabad</td>\n",
       "      <td>Uttar</td>\n",
       "    </tr>\n",
       "    <tr>\n",
       "      <th>2</th>\n",
       "      <td>149</td>\n",
       "      <td>500</td>\n",
       "      <td>Traffic Violations</td>\n",
       "      <td>Police</td>\n",
       "      <td>2018-01-23</td>\n",
       "      <td>Margao</td>\n",
       "      <td>Goa</td>\n",
       "    </tr>\n",
       "    <tr>\n",
       "      <th>3</th>\n",
       "      <td>192</td>\n",
       "      <td>500</td>\n",
       "      <td>Traffic Violations</td>\n",
       "      <td>Police</td>\n",
       "      <td>2018-01-22</td>\n",
       "      <td>New</td>\n",
       "      <td>Delhi</td>\n",
       "    </tr>\n",
       "    <tr>\n",
       "      <th>4</th>\n",
       "      <td>249</td>\n",
       "      <td>30</td>\n",
       "      <td>Duplicate Driving License</td>\n",
       "      <td>Transport</td>\n",
       "      <td>2018-01-20</td>\n",
       "      <td>Jamshedpur</td>\n",
       "      <td>Jharkhand</td>\n",
       "    </tr>\n",
       "    <tr>\n",
       "      <th>5</th>\n",
       "      <td>339</td>\n",
       "      <td>18,000</td>\n",
       "      <td>Transfer of Property</td>\n",
       "      <td>Stamps and Registration</td>\n",
       "      <td>2018-01-19</td>\n",
       "      <td>Bangalore</td>\n",
       "      <td>Karnataka</td>\n",
       "    </tr>\n",
       "    <tr>\n",
       "      <th>6</th>\n",
       "      <td>320</td>\n",
       "      <td>70</td>\n",
       "      <td>Activities on Beat</td>\n",
       "      <td>Police</td>\n",
       "      <td>2018-01-19</td>\n",
       "      <td>Proddatur</td>\n",
       "      <td>Andhra</td>\n",
       "    </tr>\n",
       "    <tr>\n",
       "      <th>7</th>\n",
       "      <td>368</td>\n",
       "      <td>2,00,000</td>\n",
       "      <td>Police Harassment</td>\n",
       "      <td>Police</td>\n",
       "      <td>2018-01-18</td>\n",
       "      <td>Bangalore</td>\n",
       "      <td>Karnataka</td>\n",
       "    </tr>\n",
       "    <tr>\n",
       "      <th>8</th>\n",
       "      <td>331</td>\n",
       "      <td>450</td>\n",
       "      <td>Traffic Violations</td>\n",
       "      <td>Police</td>\n",
       "      <td>2018-01-18</td>\n",
       "      <td>Pune</td>\n",
       "      <td>Maharashtra</td>\n",
       "    </tr>\n",
       "    <tr>\n",
       "      <th>9</th>\n",
       "      <td>336</td>\n",
       "      <td>6,400</td>\n",
       "      <td>Driving licence Process</td>\n",
       "      <td>Transport</td>\n",
       "      <td>2018-01-18</td>\n",
       "      <td>Udumalaipettai</td>\n",
       "      <td>Tamil</td>\n",
       "    </tr>\n",
       "    <tr>\n",
       "      <th>10</th>\n",
       "      <td>333</td>\n",
       "      <td>5,000</td>\n",
       "      <td>Admission to College</td>\n",
       "      <td>Education</td>\n",
       "      <td>2018-01-17</td>\n",
       "      <td>Abohar</td>\n",
       "      <td>Punjab</td>\n",
       "    </tr>\n",
       "    <tr>\n",
       "      <th>11</th>\n",
       "      <td>327</td>\n",
       "      <td>1,000</td>\n",
       "      <td>False Allegations</td>\n",
       "      <td>Police</td>\n",
       "      <td>2018-01-17</td>\n",
       "      <td>Gobichettipalayam</td>\n",
       "      <td>Tamil</td>\n",
       "    </tr>\n",
       "    <tr>\n",
       "      <th>12</th>\n",
       "      <td>361</td>\n",
       "      <td>300</td>\n",
       "      <td>Police Verification for Passport</td>\n",
       "      <td>Passport</td>\n",
       "      <td>2018-01-16</td>\n",
       "      <td>Tiruppur</td>\n",
       "      <td>Tamil</td>\n",
       "    </tr>\n",
       "    <tr>\n",
       "      <th>13</th>\n",
       "      <td>318</td>\n",
       "      <td>200</td>\n",
       "      <td>Change of Address in Driving License</td>\n",
       "      <td>Transport</td>\n",
       "      <td>2018-01-16</td>\n",
       "      <td>Tiruppur</td>\n",
       "      <td>Tamil</td>\n",
       "    </tr>\n",
       "    <tr>\n",
       "      <th>14</th>\n",
       "      <td>375</td>\n",
       "      <td>500</td>\n",
       "      <td>Police Verification for Passport</td>\n",
       "      <td>Police</td>\n",
       "      <td>2018-01-14</td>\n",
       "      <td>Karnal</td>\n",
       "      <td>Haryana</td>\n",
       "    </tr>\n",
       "    <tr>\n",
       "      <th>15</th>\n",
       "      <td>356</td>\n",
       "      <td>1,000</td>\n",
       "      <td>Police Harassment</td>\n",
       "      <td>Police</td>\n",
       "      <td>2018-01-14</td>\n",
       "      <td>Siliguri</td>\n",
       "      <td>West</td>\n",
       "    </tr>\n",
       "    <tr>\n",
       "      <th>16</th>\n",
       "      <td>436</td>\n",
       "      <td>10,000</td>\n",
       "      <td>New Borewell connection</td>\n",
       "      <td>Water and Sewage</td>\n",
       "      <td>2018-01-12</td>\n",
       "      <td>Bangalore</td>\n",
       "      <td>Karnataka</td>\n",
       "    </tr>\n",
       "    <tr>\n",
       "      <th>17</th>\n",
       "      <td>415</td>\n",
       "      <td>1,500</td>\n",
       "      <td>Learners License</td>\n",
       "      <td>Transport</td>\n",
       "      <td>2018-01-12</td>\n",
       "      <td>Coimbatore</td>\n",
       "      <td>Tamil</td>\n",
       "    </tr>\n",
       "    <tr>\n",
       "      <th>18</th>\n",
       "      <td>387</td>\n",
       "      <td>18,000</td>\n",
       "      <td>Khata Transfer</td>\n",
       "      <td>Stamps and Registration</td>\n",
       "      <td>2018-01-12</td>\n",
       "      <td>Bangalore</td>\n",
       "      <td>Karnataka</td>\n",
       "    </tr>\n",
       "    <tr>\n",
       "      <th>19</th>\n",
       "      <td>428</td>\n",
       "      <td>1,000</td>\n",
       "      <td>Police Verification for Passport</td>\n",
       "      <td>Police</td>\n",
       "      <td>2018-01-11</td>\n",
       "      <td>Latur</td>\n",
       "      <td>Maharashtra</td>\n",
       "    </tr>\n",
       "  </tbody>\n",
       "</table>\n",
       "</div>"
      ],
      "text/plain": [
       "   views paid_amount                           transaction  \\\n",
       "0    131       1,000   Background or Personal Verification   \n",
       "1    139       1,500      Police Verification for Passport   \n",
       "2    149         500                    Traffic Violations   \n",
       "3    192         500                    Traffic Violations   \n",
       "4    249          30             Duplicate Driving License   \n",
       "5    339      18,000                  Transfer of Property   \n",
       "6    320          70                    Activities on Beat   \n",
       "7    368    2,00,000                     Police Harassment   \n",
       "8    331         450                    Traffic Violations   \n",
       "9    336       6,400               Driving licence Process   \n",
       "10   333       5,000                  Admission to College   \n",
       "11   327       1,000                     False Allegations   \n",
       "12   361         300      Police Verification for Passport   \n",
       "13   318         200  Change of Address in Driving License   \n",
       "14   375         500      Police Verification for Passport   \n",
       "15   356       1,000                     Police Harassment   \n",
       "16   436      10,000               New Borewell connection   \n",
       "17   415       1,500                      Learners License   \n",
       "18   387      18,000                        Khata Transfer   \n",
       "19   428       1,000      Police Verification for Passport   \n",
       "\n",
       "                       name       date               city        state  \n",
       "0                    Police 2018-01-23            Shimoga    Karnataka  \n",
       "1                  Passport 2018-01-23          Ghaziabad        Uttar  \n",
       "2                    Police 2018-01-23             Margao          Goa  \n",
       "3                    Police 2018-01-22                New        Delhi  \n",
       "4                 Transport 2018-01-20         Jamshedpur    Jharkhand  \n",
       "5   Stamps and Registration 2018-01-19          Bangalore    Karnataka  \n",
       "6                    Police 2018-01-19          Proddatur       Andhra  \n",
       "7                    Police 2018-01-18          Bangalore    Karnataka  \n",
       "8                    Police 2018-01-18               Pune  Maharashtra  \n",
       "9                 Transport 2018-01-18     Udumalaipettai        Tamil  \n",
       "10                Education 2018-01-17             Abohar       Punjab  \n",
       "11                   Police 2018-01-17  Gobichettipalayam        Tamil  \n",
       "12                 Passport 2018-01-16           Tiruppur        Tamil  \n",
       "13                Transport 2018-01-16           Tiruppur        Tamil  \n",
       "14                   Police 2018-01-14             Karnal      Haryana  \n",
       "15                   Police 2018-01-14           Siliguri         West  \n",
       "16         Water and Sewage 2018-01-12          Bangalore    Karnataka  \n",
       "17                Transport 2018-01-12         Coimbatore        Tamil  \n",
       "18  Stamps and Registration 2018-01-12          Bangalore    Karnataka  \n",
       "19                   Police 2018-01-11              Latur  Maharashtra  "
      ]
     },
     "execution_count": 35,
     "metadata": {},
     "output_type": "execute_result"
    }
   ],
   "source": [
    "## Loading the data created\n",
    "\n",
    "df.head(20)"
   ]
  },
  {
   "cell_type": "markdown",
   "metadata": {
    "collapsed": true
   },
   "source": [
    "### Now, that we have the data we can the following questions,  \n",
    "1. What are the most corrupt cities/states?\n",
    "2. Which Department(Name) is most corrupt?\n",
    "3. Amount of money in bribes over time?\n",
    "4. Situations(transaction) where one bribes most?"
   ]
  },
  {
   "cell_type": "code",
   "execution_count": null,
   "metadata": {
    "collapsed": true
   },
   "outputs": [],
   "source": []
  }
 ],
 "metadata": {
  "kernelspec": {
   "display_name": "Python 3",
   "language": "python",
   "name": "python3"
  },
  "language_info": {
   "codemirror_mode": {
    "name": "ipython",
    "version": 3
   },
   "file_extension": ".py",
   "mimetype": "text/x-python",
   "name": "python",
   "nbconvert_exporter": "python",
   "pygments_lexer": "ipython3",
   "version": "3.6.3"
  }
 },
 "nbformat": 4,
 "nbformat_minor": 2
}
